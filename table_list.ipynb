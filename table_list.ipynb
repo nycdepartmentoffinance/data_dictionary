{
 "cells": [
  {
   "cell_type": "code",
   "execution_count": 1,
   "metadata": {},
   "outputs": [
    {
     "data": {
      "text/plain": [
       "True"
      ]
     },
     "execution_count": 1,
     "metadata": {},
     "output_type": "execute_result"
    }
   ],
   "source": [
    "import pyodbc\n",
    "import os\n",
    "import pandas as pd\n",
    "from dotenv import load_dotenv, find_dotenv\n",
    "\n",
    "load_dotenv(find_dotenv(\"C:/Users/BoydClaire/.Renviron\"))"
   ]
  },
  {
   "cell_type": "code",
   "execution_count": 2,
   "metadata": {},
   "outputs": [],
   "source": [
    "def get_database_tables(database_name, connection_args, schema=None):\n",
    "\n",
    "    connection_string = \"\".join(connection_args)\n",
    "\n",
    "    # create connection object\n",
    "    cnxn = pyodbc.connect(connection_string)\n",
    "\n",
    "    cursor = cnxn.cursor()\n",
    "\n",
    "    if schema:\n",
    "        tables_raw = cursor.tables(schema=schema)\n",
    "    else:\n",
    "        tables_raw = cursor.tables()\n",
    "\n",
    "    tables = pd.DataFrame(tables_raw)\n",
    "    tables.columns = ['list']\n",
    "    cleaned_tables = pd.DataFrame(tables['list'].apply(list).to_list(), columns = ['DATABASE_NAME','SCHEMA','NAME','TYPE','SELF_REFERENCING_COL_NAME'])\n",
    "    cleaned_tables['db'] = database_name\n",
    "\n",
    "    return cleaned_tables"
   ]
  },
  {
   "cell_type": "code",
   "execution_count": 3,
   "metadata": {},
   "outputs": [],
   "source": [
    "# get sql tables\n",
    "\n",
    "sql_database_list = [\"production\", \"test\", \"sandbox\"]\n",
    "sql_tables = []\n",
    "\n",
    "for database in sql_database_list:\n",
    "\n",
    "    # build connection string\n",
    "    connection_args = [\"Driver={SQL Server};\",\n",
    "                        f\"SERVER={os.environ[f'{database}_server']};\",\n",
    "                        f\"DATABASE={os.environ[f'{database}_database']};\",\n",
    "                        f\"UID={os.environ[f'{database}_username']};\",\n",
    "                        f\"PWD={os.environ[f'{database}_password']};\",\n",
    "                        f\"Trusted_Connection=no;\",\n",
    "                        \"Port=1433\"\n",
    "    ]\n",
    "\n",
    "    table = get_database_tables(database, connection_args)\n",
    "    sql_tables.append(table)"
   ]
  },
  {
   "cell_type": "code",
   "execution_count": 4,
   "metadata": {},
   "outputs": [],
   "source": [
    "# get oracle tables\n",
    "\n",
    "oracle_database_list = [\"fdw\", \"ias\"]\n",
    "oracle_tables = []\n",
    "\n",
    "for database in oracle_database_list:\n",
    "\n",
    "    # build connection string\n",
    "    database_schema = os.getenv(f\"{database}_schema\")\n",
    "    connection_args = [\"Driver={Oracle in OraClient19Home1};\",\n",
    "                        f\"DBQ={os.environ[f'{database}_path']};\"\n",
    "                        f\"DATABASE={os.environ[f'{database}_schema']};\"\n",
    "                        f\"UID={os.environ[f'{database}_username']};\",\n",
    "                        f\"PWD={os.environ[f'{database}_password']};\",\n",
    "                        f\"Trusted_Connection=no;\",\n",
    "                        \"Port=1433\"\n",
    "    ]\n",
    "\n",
    "    table = get_database_tables(database, connection_args)\n",
    "    table = table.loc[table.loc[:,\"SCHEMA\"] == database_schema.upper(), :]\n",
    "\n",
    "    oracle_tables.append(table)"
   ]
  },
  {
   "cell_type": "code",
   "execution_count": 5,
   "metadata": {},
   "outputs": [],
   "source": [
    "flat = [table for tables in [sql_tables, oracle_tables] for table in tables]\n",
    "all_tables = pd.concat(flat, axis=0)"
   ]
  },
  {
   "cell_type": "code",
   "execution_count": 6,
   "metadata": {},
   "outputs": [
    {
     "data": {
      "text/html": [
       "<div>\n",
       "<style scoped>\n",
       "    .dataframe tbody tr th:only-of-type {\n",
       "        vertical-align: middle;\n",
       "    }\n",
       "\n",
       "    .dataframe tbody tr th {\n",
       "        vertical-align: top;\n",
       "    }\n",
       "\n",
       "    .dataframe thead th {\n",
       "        text-align: right;\n",
       "    }\n",
       "</style>\n",
       "<table border=\"1\" class=\"dataframe\">\n",
       "  <thead>\n",
       "    <tr style=\"text-align: right;\">\n",
       "      <th></th>\n",
       "      <th>DATABASE</th>\n",
       "      <th>SCHEMA</th>\n",
       "      <th>NAME</th>\n",
       "      <th>TYPE</th>\n",
       "      <th>SELF_REFERENCING_COL_NAME</th>\n",
       "    </tr>\n",
       "    <tr>\n",
       "      <th>db</th>\n",
       "      <th></th>\n",
       "      <th></th>\n",
       "      <th></th>\n",
       "      <th></th>\n",
       "      <th></th>\n",
       "    </tr>\n",
       "  </thead>\n",
       "  <tbody>\n",
       "    <tr>\n",
       "      <th>fdw</th>\n",
       "      <td>0</td>\n",
       "      <td>228</td>\n",
       "      <td>228</td>\n",
       "      <td>228</td>\n",
       "      <td>0</td>\n",
       "    </tr>\n",
       "    <tr>\n",
       "      <th>ias</th>\n",
       "      <td>0</td>\n",
       "      <td>6471</td>\n",
       "      <td>6471</td>\n",
       "      <td>6471</td>\n",
       "      <td>0</td>\n",
       "    </tr>\n",
       "    <tr>\n",
       "      <th>production</th>\n",
       "      <td>4684</td>\n",
       "      <td>4684</td>\n",
       "      <td>4684</td>\n",
       "      <td>4684</td>\n",
       "      <td>0</td>\n",
       "    </tr>\n",
       "    <tr>\n",
       "      <th>sandbox</th>\n",
       "      <td>4265</td>\n",
       "      <td>4265</td>\n",
       "      <td>4265</td>\n",
       "      <td>4265</td>\n",
       "      <td>0</td>\n",
       "    </tr>\n",
       "    <tr>\n",
       "      <th>test</th>\n",
       "      <td>4550</td>\n",
       "      <td>4550</td>\n",
       "      <td>4550</td>\n",
       "      <td>4550</td>\n",
       "      <td>0</td>\n",
       "    </tr>\n",
       "  </tbody>\n",
       "</table>\n",
       "</div>"
      ],
      "text/plain": [
       "            DATABASE  SCHEMA  NAME  TYPE  SELF_REFERENCING_COL_NAME\n",
       "db                                                                 \n",
       "fdw                0     228   228   228                          0\n",
       "ias                0    6471  6471  6471                          0\n",
       "production      4684    4684  4684  4684                          0\n",
       "sandbox         4265    4265  4265  4265                          0\n",
       "test            4550    4550  4550  4550                          0"
      ]
     },
     "execution_count": 6,
     "metadata": {},
     "output_type": "execute_result"
    }
   ],
   "source": [
    "all_tables.groupby(\"db\").count()"
   ]
  },
  {
   "cell_type": "code",
   "execution_count": 21,
   "metadata": {},
   "outputs": [],
   "source": [
    "all_tables.drop(columns=[\"SELF_REFERENCING_COL_NAME\"])\n",
    "\n",
    "all_tables = all_tables \n",
    "\n",
    "all_tables.to_csv(\"data_dictionary_table_data.csv\")"
   ]
  },
  {
   "cell_type": "markdown",
   "metadata": {},
   "source": [
    "things to consider:\n",
    "* repeats of the same data\n",
    "* how often records get updated\n",
    "* mirrored tables in different databases\n",
    "* \n",
    "\n",
    "\n",
    "how to pull in cols for all databases based on the tables above\n",
    "*"
   ]
  },
  {
   "cell_type": "code",
   "execution_count": 17,
   "metadata": {},
   "outputs": [],
   "source": [
    "database= \"test\"\n",
    "\n",
    "# build connection string\n",
    "connection_args = [\"Driver={SQL Server};\",\n",
    "                    f\"SERVER={os.environ[f'{database}_server']};\",\n",
    "                    f\"DATABASE={os.environ[f'{database}_database']};\",\n",
    "                    f\"UID={os.environ[f'{database}_username']};\",\n",
    "                    f\"PWD={os.environ[f'{database}_password']};\",\n",
    "                    f\"Trusted_Connection=no;\",\n",
    "                    \"Port=1433\"\n",
    "]\n",
    "\n",
    "connection_string = \"\".join(connection_args)\n",
    "\n",
    "# create connection object\n",
    "cnxn = pyodbc.connect(connection_string)\n",
    "\n",
    "cursor = cnxn.cursor()\n",
    "\n",
    "def get_columns_from_table(cursor, tablename):\n",
    "    \n",
    "    cursor.execute(f\"\"\"\n",
    "        SELECT COLUMN_NAME, DATA_TYPE\n",
    "        FROM INFORMATION_SCHEMA.COLUMNS\n",
    "        WHERE TABLE_NAME = '{tablename}'\n",
    "    \"\"\")\n",
    "\n",
    "    # Fetch all results\n",
    "    columns_info = pd.DataFrame(cursor.fetchall())\n",
    "\n",
    "    return columns_info\n",
    "\n",
    "\n",
    "obj = get_columns_from_table(cursor, \"PARCEL\")"
   ]
  },
  {
   "cell_type": "code",
   "execution_count": 18,
   "metadata": {},
   "outputs": [
    {
     "data": {
      "text/html": [
       "<div>\n",
       "<style scoped>\n",
       "    .dataframe tbody tr th:only-of-type {\n",
       "        vertical-align: middle;\n",
       "    }\n",
       "\n",
       "    .dataframe tbody tr th {\n",
       "        vertical-align: top;\n",
       "    }\n",
       "\n",
       "    .dataframe thead th {\n",
       "        text-align: right;\n",
       "    }\n",
       "</style>\n",
       "<table border=\"1\" class=\"dataframe\">\n",
       "  <thead>\n",
       "    <tr style=\"text-align: right;\">\n",
       "      <th></th>\n",
       "      <th>0</th>\n",
       "    </tr>\n",
       "  </thead>\n",
       "  <tbody>\n",
       "    <tr>\n",
       "      <th>0</th>\n",
       "      <td>[PRC_MNC, numeric]</td>\n",
       "    </tr>\n",
       "    <tr>\n",
       "      <th>1</th>\n",
       "      <td>[PRC_PID, numeric]</td>\n",
       "    </tr>\n",
       "    <tr>\n",
       "      <th>2</th>\n",
       "      <td>[PRC_ASSNG_DIST, varchar]</td>\n",
       "    </tr>\n",
       "    <tr>\n",
       "      <th>3</th>\n",
       "      <td>[PRC_ASSNG_SUBDIST, varchar]</td>\n",
       "    </tr>\n",
       "    <tr>\n",
       "      <th>4</th>\n",
       "      <td>[PRC_RES_DIST, varchar]</td>\n",
       "    </tr>\n",
       "  </tbody>\n",
       "</table>\n",
       "</div>"
      ],
      "text/plain": [
       "                              0\n",
       "0            [PRC_MNC, numeric]\n",
       "1            [PRC_PID, numeric]\n",
       "2     [PRC_ASSNG_DIST, varchar]\n",
       "3  [PRC_ASSNG_SUBDIST, varchar]\n",
       "4       [PRC_RES_DIST, varchar]"
      ]
     },
     "execution_count": 18,
     "metadata": {},
     "output_type": "execute_result"
    }
   ],
   "source": [
    "obj.head()"
   ]
  }
 ],
 "metadata": {
  "kernelspec": {
   "display_name": "base",
   "language": "python",
   "name": "python3"
  },
  "language_info": {
   "codemirror_mode": {
    "name": "ipython",
    "version": 3
   },
   "file_extension": ".py",
   "mimetype": "text/x-python",
   "name": "python",
   "nbconvert_exporter": "python",
   "pygments_lexer": "ipython3",
   "version": "3.7.4"
  }
 },
 "nbformat": 4,
 "nbformat_minor": 2
}
