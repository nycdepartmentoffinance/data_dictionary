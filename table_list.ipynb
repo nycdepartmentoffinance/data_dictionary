{
 "cells": [
  {
   "cell_type": "code",
   "execution_count": 1,
   "metadata": {},
   "outputs": [
    {
     "data": {
      "text/plain": [
       "True"
      ]
     },
     "execution_count": 1,
     "metadata": {},
     "output_type": "execute_result"
    }
   ],
   "source": [
    "import pyodbc\n",
    "import os\n",
    "import pandas as pd\n",
    "from dotenv import load_dotenv, find_dotenv\n",
    "\n",
    "load_dotenv(find_dotenv(\"C:/Users/BoydClaire/.Renviron\"))\n",
    "\n",
    "def get_database_tables(database_name, connection_args, schema=None):\n",
    "\n",
    "    connection_string = \"\".join(connection_args)\n",
    "\n",
    "    # create connection object\n",
    "    cnxn = pyodbc.connect(connection_string)\n",
    "\n",
    "    cursor = cnxn.cursor()\n",
    "\n",
    "    if schema:\n",
    "        tables_raw = cursor.tables(schema=schema)\n",
    "    else:\n",
    "        tables_raw = cursor.tables()\n",
    "\n",
    "    tables = pd.DataFrame(tables_raw)\n",
    "    tables.columns = ['list']\n",
    "    cleaned_tables = pd.DataFrame(tables['list'].apply(list).to_list(), columns = ['DATABASE_NAME','SCHEMA','NAME','TYPE','SELF_REFERENCING_COL_NAME'])\n",
    "    cleaned_tables['DATABASE'] = database_name\n",
    "\n",
    "    return cleaned_tables"
   ]
  },
  {
   "cell_type": "code",
   "execution_count": 32,
   "metadata": {},
   "outputs": [],
   "source": [
    "# get sql tables\n",
    "\n",
    "sql_database_list = [\"production\"]\n",
    "sql_tables = []\n",
    "\n",
    "for database in sql_database_list:\n",
    "\n",
    "    # build connection string\n",
    "    connection_args = [\"Driver={SQL Server};\",\n",
    "                        f\"SERVER={os.environ[f'{database}_server']};\",\n",
    "                        f\"DATABASE={os.environ[f'{database}_database']};\",\n",
    "                        f\"UID={os.environ[f'{database}_username']};\",\n",
    "                        f\"PWD={os.environ[f'{database}_password']};\",\n",
    "                        f\"Trusted_Connection=no;\",\n",
    "                        \"Port=1433\"\n",
    "    ]\n",
    "\n",
    "    table = get_database_tables(database, connection_args)\n",
    "    sql_tables.append(table)"
   ]
  },
  {
   "cell_type": "code",
   "execution_count": 29,
   "metadata": {},
   "outputs": [],
   "source": [
    "# get oracle tables\n",
    "\n",
    "oracle_database_list = [\"fdw\", \"ias\"]\n",
    "oracle_tables = []\n",
    "\n",
    "for database in oracle_database_list:\n",
    "\n",
    "    # build connection string\n",
    "    database_schema = os.getenv(f\"{database}_schema\")\n",
    "    connection_args = [\"Driver={Oracle in OraClient19Home1};\",\n",
    "                        f\"DBQ={os.environ[f'{database}_path']};\"\n",
    "                        f\"DATABASE={os.environ[f'{database}_schema']};\"\n",
    "                        f\"UID={os.environ[f'{database}_username']};\",\n",
    "                        f\"PWD={os.environ[f'{database}_password']};\",\n",
    "                        f\"Trusted_Connection=no;\",\n",
    "                        \"Port=1433\"\n",
    "    ]\n",
    "\n",
    "    table = get_database_tables(database, connection_args)\n",
    "    table = table.loc[table.loc[:,\"SCHEMA\"] == database_schema.upper(), :]\n",
    "\n",
    "    oracle_tables.append(table)"
   ]
  },
  {
   "cell_type": "code",
   "execution_count": 30,
   "metadata": {},
   "outputs": [],
   "source": [
    "flat = [table for tables in [sql_tables, oracle_tables] for table in tables]\n",
    "all_tables = pd.concat(flat, axis=0)"
   ]
  },
  {
   "cell_type": "code",
   "execution_count": 33,
   "metadata": {},
   "outputs": [
    {
     "data": {
      "text/html": [
       "<div>\n",
       "<style scoped>\n",
       "    .dataframe tbody tr th:only-of-type {\n",
       "        vertical-align: middle;\n",
       "    }\n",
       "\n",
       "    .dataframe tbody tr th {\n",
       "        vertical-align: top;\n",
       "    }\n",
       "\n",
       "    .dataframe thead th {\n",
       "        text-align: right;\n",
       "    }\n",
       "</style>\n",
       "<table border=\"1\" class=\"dataframe\">\n",
       "  <thead>\n",
       "    <tr style=\"text-align: right;\">\n",
       "      <th></th>\n",
       "      <th>DATABASE_NAME</th>\n",
       "      <th>SCHEMA</th>\n",
       "      <th>NAME</th>\n",
       "      <th>TYPE</th>\n",
       "      <th>SELF_REFERENCING_COL_NAME</th>\n",
       "    </tr>\n",
       "    <tr>\n",
       "      <th>DATABASE</th>\n",
       "      <th></th>\n",
       "      <th></th>\n",
       "      <th></th>\n",
       "      <th></th>\n",
       "      <th></th>\n",
       "    </tr>\n",
       "  </thead>\n",
       "  <tbody>\n",
       "    <tr>\n",
       "      <th>fdw</th>\n",
       "      <td>0</td>\n",
       "      <td>228</td>\n",
       "      <td>228</td>\n",
       "      <td>228</td>\n",
       "      <td>0</td>\n",
       "    </tr>\n",
       "    <tr>\n",
       "      <th>ias</th>\n",
       "      <td>0</td>\n",
       "      <td>6470</td>\n",
       "      <td>6470</td>\n",
       "      <td>6470</td>\n",
       "      <td>0</td>\n",
       "    </tr>\n",
       "    <tr>\n",
       "      <th>production</th>\n",
       "      <td>4684</td>\n",
       "      <td>4684</td>\n",
       "      <td>4684</td>\n",
       "      <td>4684</td>\n",
       "      <td>0</td>\n",
       "    </tr>\n",
       "  </tbody>\n",
       "</table>\n",
       "</div>"
      ],
      "text/plain": [
       "            DATABASE_NAME  SCHEMA  NAME  TYPE  SELF_REFERENCING_COL_NAME\n",
       "DATABASE                                                                \n",
       "fdw                     0     228   228   228                          0\n",
       "ias                     0    6470  6470  6470                          0\n",
       "production           4684    4684  4684  4684                          0"
      ]
     },
     "execution_count": 33,
     "metadata": {},
     "output_type": "execute_result"
    }
   ],
   "source": [
    "all_tables.groupby(\"DATABASE\").count()"
   ]
  },
  {
   "cell_type": "code",
   "execution_count": 93,
   "metadata": {},
   "outputs": [
    {
     "data": {
      "text/plain": [
       "0         True\n",
       "1         True\n",
       "2         True\n",
       "3         True\n",
       "4         True\n",
       "         ...  \n",
       "29820    False\n",
       "29821    False\n",
       "29822    False\n",
       "29823    False\n",
       "29824    False\n",
       "Name: DATABASE, Length: 11382, dtype: bool"
      ]
     },
     "execution_count": 93,
     "metadata": {},
     "output_type": "execute_result"
    }
   ],
   "source": [
    "all_tables['DATABASE'] == \"production\""
   ]
  },
  {
   "cell_type": "code",
   "execution_count": 96,
   "metadata": {},
   "outputs": [
    {
     "data": {
      "text/html": [
       "<div>\n",
       "<style scoped>\n",
       "    .dataframe tbody tr th:only-of-type {\n",
       "        vertical-align: middle;\n",
       "    }\n",
       "\n",
       "    .dataframe tbody tr th {\n",
       "        vertical-align: top;\n",
       "    }\n",
       "\n",
       "    .dataframe thead th {\n",
       "        text-align: right;\n",
       "    }\n",
       "</style>\n",
       "<table border=\"1\" class=\"dataframe\">\n",
       "  <thead>\n",
       "    <tr style=\"text-align: right;\">\n",
       "      <th></th>\n",
       "      <th>DATABASE_NAME</th>\n",
       "      <th>SCHEMA</th>\n",
       "      <th>NAME</th>\n",
       "      <th>TYPE</th>\n",
       "      <th>SELF_REFERENCING_COL_NAME</th>\n",
       "    </tr>\n",
       "    <tr>\n",
       "      <th>DATABASE</th>\n",
       "      <th></th>\n",
       "      <th></th>\n",
       "      <th></th>\n",
       "      <th></th>\n",
       "      <th></th>\n",
       "    </tr>\n",
       "  </thead>\n",
       "  <tbody>\n",
       "    <tr>\n",
       "      <th>fdw</th>\n",
       "      <td>0</td>\n",
       "      <td>228</td>\n",
       "      <td>228</td>\n",
       "      <td>228</td>\n",
       "      <td>0</td>\n",
       "    </tr>\n",
       "    <tr>\n",
       "      <th>ias</th>\n",
       "      <td>0</td>\n",
       "      <td>6154</td>\n",
       "      <td>6154</td>\n",
       "      <td>6154</td>\n",
       "      <td>0</td>\n",
       "    </tr>\n",
       "    <tr>\n",
       "      <th>production</th>\n",
       "      <td>2407</td>\n",
       "      <td>2407</td>\n",
       "      <td>2407</td>\n",
       "      <td>2407</td>\n",
       "      <td>0</td>\n",
       "    </tr>\n",
       "  </tbody>\n",
       "</table>\n",
       "</div>"
      ],
      "text/plain": [
       "            DATABASE_NAME  SCHEMA  NAME  TYPE  SELF_REFERENCING_COL_NAME\n",
       "DATABASE                                                                \n",
       "fdw                     0     228   228   228                          0\n",
       "ias                     0    6154  6154  6154                          0\n",
       "production           2407    2407  2407  2407                          0"
      ]
     },
     "execution_count": 96,
     "metadata": {},
     "output_type": "execute_result"
    }
   ],
   "source": [
    "# filter tables \n",
    "\n",
    "display_tables = all_tables.loc[(~all_tables['NAME'].str.contains('_20[0-9]{2}')),:]\n",
    "\n",
    "display_tables.groupby(\"DATABASE\").count()"
   ]
  },
  {
   "cell_type": "markdown",
   "metadata": {},
   "source": [
    "things to consider:\n",
    "* how often records get updated -- last update\n",
    "\n",
    "how to pull in cols for all databases based on the tables above\n",
    "*"
   ]
  },
  {
   "cell_type": "code",
   "execution_count": 37,
   "metadata": {},
   "outputs": [],
   "source": [
    "database= \"test\"\n",
    "\n",
    "# build connection string\n",
    "connection_args = [\"Driver={SQL Server};\",\n",
    "                    f\"SERVER={os.environ[f'{database}_server']};\",\n",
    "                    f\"DATABASE={os.environ[f'{database}_database']};\",\n",
    "                    f\"UID={os.environ[f'{database}_username']};\",\n",
    "                    f\"PWD={os.environ[f'{database}_password']};\",\n",
    "                    f\"Trusted_Connection=no;\",\n",
    "                    \"Port=1433\"\n",
    "]\n",
    "\n",
    "connection_string = \"\".join(connection_args)\n",
    "\n",
    "# create connection object\n",
    "cnxn = pyodbc.connect(connection_string)\n",
    "\n",
    "cursor = cnxn.cursor()"
   ]
  },
  {
   "cell_type": "code",
   "execution_count": 74,
   "metadata": {},
   "outputs": [],
   "source": [
    "def get_columns_from_table(cursor, tablename):\n",
    "    \n",
    "    cursor.execute(f\"\"\"\n",
    "        SELECT COLUMN_NAME, DATA_TYPE\n",
    "        FROM INFORMATION_SCHEMA.COLUMNS\n",
    "        WHERE TABLE_NAME = '{tablename}'\n",
    "    \"\"\")\n",
    "\n",
    "    # Fetch all results\n",
    "    columns_info = pd.DataFrame(cursor.fetchall())\n",
    "\n",
    "    columns_info.columns = ['list']\n",
    "    columns_info = pd.DataFrame(columns_info['list'].apply(list).to_list(), columns = ['COLUMN_NAME','TYPE'])\n",
    "\n",
    "    return columns_info\n",
    "\n",
    "\n",
    "def get_prefix_from_table(cursor, tablename):\n",
    "\n",
    "    columns_info = get_columns_from_table(cursor, tablename)\n",
    "    prefix = columns_info['COLUMN_NAME'].str.extract(\"^(.*?)_.*$\")[0][0]\n",
    "    \n",
    "    return prefix"
   ]
  },
  {
   "cell_type": "code",
   "execution_count": 78,
   "metadata": {},
   "outputs": [
    {
     "data": {
      "text/plain": [
       "'BLD'"
      ]
     },
     "execution_count": 78,
     "metadata": {},
     "output_type": "execute_result"
    }
   ],
   "source": [
    "get_prefix_from_table(cursor, \"BLDG\")\n"
   ]
  }
 ],
 "metadata": {
  "kernelspec": {
   "display_name": "base",
   "language": "python",
   "name": "python3"
  },
  "language_info": {
   "codemirror_mode": {
    "name": "ipython",
    "version": 3
   },
   "file_extension": ".py",
   "mimetype": "text/x-python",
   "name": "python",
   "nbconvert_exporter": "python",
   "pygments_lexer": "ipython3",
   "version": "3.7.4"
  }
 },
 "nbformat": 4,
 "nbformat_minor": 2
}
